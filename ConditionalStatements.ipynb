{
 "cells": [
  {
   "cell_type": "markdown",
   "metadata": {},
   "source": [
    "<h1> Activities: Conditional Statements </h1>"
   ]
  },
  {
   "cell_type": "markdown",
   "metadata": {},
   "source": [
    "<h2> Activity 1 </h2>\n",
    "Write a program that asks the user how much money they have in their wallet. The program should output \"You're rich!\" if the user inputs $20 or more and \"You're broke!\" if the input is less than $20."
   ]
  },
  {
   "cell_type": "code",
   "execution_count": null,
   "metadata": {},
   "outputs": [],
   "source": [
    "num = int(input(\"Enter hpw much money you have currently in your wallet: \"))\n",
    "if num >= 20:\n",
    "    print(\"You're rich!\")\n",
    "else:\n",
    "    print(\"You're broke\")"
   ]
  },
  {
   "cell_type": "markdown",
   "metadata": {},
   "source": [
    "<h2> Activity 2 </h2>\n",
    "Write a program that performs the following steps:\n",
    "<ul>\n",
    "<li> Ask the user if they own any cats. (Yes/No answer) </li>\n",
    "<li> Ask the user if they own any dogs. (Yes/No answer) </li>\n",
    "<li> If the user responses indicate that they have both cats and dogs, output \"You must really love pets!\" </li>\n",
    "<li> Otherwise, the output should be \"Maybe you need more pets.\"\n",
    "The last step will apply if the user has cats but not dogs, dogs but not cats, or neither cats nor dogs.</li>\n",
    "</ul>\n",
    "\n",
    "Write two different versions of this program, one that uses only if statements and another that uses if-else statements."
   ]
  },
  {
   "cell_type": "code",
   "execution_count": null,
   "metadata": {},
   "outputs": [],
   "source": [
    "#changed a few things \n",
    "petStatusforCat = input(\"Do you Own any cats? (Yes/No): \").lower()\n",
    "petStatusforDog = input(\"Do you Own any dogs? (Yes/No): \").lower()\n",
    "\n",
    "if petStatusforCat == 'yes' and petStatusforDog == 'yes':\n",
    "    print(\"You must really love pets!\")\n",
    "elif petStatusforCat == 'yes' or petStatusforDog == 'yes':\n",
    "    print(\"Maybe you need more pets.\")\n",
    "else:\n",
    "    print(\"YOU MUST GET A PET.\")"
   ]
  },
  {
   "cell_type": "markdown",
   "metadata": {},
   "source": [
    "<h2> Activity 4 </h2>\n",
    "Write a program that uses elif to produce five different possible outcomes based on a single user input.\n",
    "<ul>\n",
    "<li> Ask the user what season it is (fall, winter, spring, or summer). </li>\n",
    "\n",
    "<li> If the user enters fall, output \"I bet the leaves are pretty there!\" </li>\n",
    "<li> If the user enters winter, output \"I hope you're ready for snow!\" </li>\n",
    "<li> If the user enters spring, output \"I can smell the flowers!\" </li>\n",
    "<li> If the user enters summer, output \"Make sure your AC is working!\" </li>\n",
    "<li> If the user enters a value that does not correspond to a season, output \"I don't recognize that season.\" </li>\n",
    "\n",
    "</ul>\n",
    "The user should be able to enter the name of the season in any case and the program will still work."
   ]
  },
  {
   "cell_type": "code",
   "execution_count": null,
   "metadata": {},
   "outputs": [],
   "source": [
    "season = input(\"Enter what season it is (fall/winter/spring/summer): \").lower()\n",
    "if season == 'fall':\n",
    "    print(\"I bet the leaves are pretty there!\")\n",
    "elif season == 'winter':\n",
    "    print(\"I hope you're ready for snow!\")\n",
    "elif season == 'spring':\n",
    "    print(\"I can smell the flowers!\")\n",
    "elif season == 'summer':\n",
    "    print(\"Make sure your AC is working!\")\n",
    "\n",
    "else:\n",
    "    print(\"I don't recognize that season.\")\n",
    "\n"
   ]
  }
 ],
 "metadata": {
  "kernelspec": {
   "display_name": "Python 3",
   "language": "python",
   "name": "python3"
  },
  "language_info": {
   "codemirror_mode": {
    "name": "ipython",
    "version": 3
   },
   "file_extension": ".py",
   "mimetype": "text/x-python",
   "name": "python",
   "nbconvert_exporter": "python",
   "pygments_lexer": "ipython3",
   "version": "3.12.5"
  }
 },
 "nbformat": 4,
 "nbformat_minor": 2
}
