{
 "cells": [
  {
   "cell_type": "markdown",
   "metadata": {},
   "source": [
    "<h1> Practice </h1>"
   ]
  },
  {
   "cell_type": "markdown",
   "metadata": {},
   "source": [
    "<h2> Practice 1 </h2>\n",
    "Create three variables where:\n",
    "<ul>\n",
    "<li> one variable stores the number of days in a year </li>\n",
    "<li> one variable stores the number of minutes in a day</li>\n",
    "<li> two variables that store the latitude and longitude of the city where you live.</li>\n",
    "</ul>\n"
   ]
  },
  {
   "cell_type": "code",
   "execution_count": 3,
   "metadata": {},
   "outputs": [
    {
     "name": "stdout",
     "output_type": "stream",
     "text": [
      "365\n",
      "1440\n",
      "51.545925\n",
      "0.707712\n",
      "<class 'int'>\n",
      "<class 'int'>\n",
      "<class 'float'>\n",
      "<class 'float'>\n"
     ]
    }
   ],
   "source": [
    "daysinaYear = 365\n",
    "minsinaDay = 1440\n",
    "lat = 51.545925\n",
    "lon = 0.707712\n",
    "\n",
    "print(daysinaYear)\n",
    "print(minsinaDay)\n",
    "print(lat)\n",
    "print(lon)\n",
    "\n",
    "print(type(daysinaYear))\n",
    "print(type(minsinaDay))\n",
    "print(type(lat))\n",
    "print(type(lon))"
   ]
  },
  {
   "cell_type": "code",
   "execution_count": 6,
   "metadata": {},
   "outputs": [
    {
     "name": "stdout",
     "output_type": "stream",
     "text": [
      "10\n",
      "-485\n",
      "0.03\n",
      "252511682940423488616943359375\n",
      "16.25\n"
     ]
    }
   ],
   "source": [
    "\"\"\" \n",
    "Create a Python script that starts with three declared values, a, b, and c, with numeric values of your choice.\n",
    "\n",
    "Using those values, perform the following calculations and print the results of each.\n",
    "\n",
    "a plus b minus c\n",
    "a minus b times c\n",
    "a divided by b divided by c\n",
    "the remainder of a divided by b to the power of c\n",
    "a plus c divided by b\n",
    "\n",
    "\"\"\"\n",
    "a = 15\n",
    "b = 20\n",
    "c = 25\n",
    "\n",
    "print(a+b-c)\n",
    "print(a-b*c)\n",
    "print(a/b/c)\n",
    "\n",
    "d = (a%b)**c\n",
    "print(d)\n",
    "\n",
    "print(a+c/b)"
   ]
  },
  {
   "cell_type": "markdown",
   "metadata": {},
   "source": [
    "<h1> Activities </h1>\n"
   ]
  },
  {
   "cell_type": "markdown",
   "metadata": {},
   "source": [
    "<h2> Activity 1 </h2>\n",
    "Create a computer program that performs the following steps:\n",
    "<ul>\n",
    "<li> Prompt the user for an integer and store the value in a variable. </li>\n",
    "<li> Display the data type of the variable that holds the entered data. </li>\n",
    "<li> Convert the value to an integer type and store the converted value in a new variable. </li>\n",
    "<li> Display the value and type of the new variable in a single sentence. (For example, \"The value is 8 with type integer.\") </li>\n",
    "<li> Run the program and enter a float value at the prompt. What is its value in the last step? </li>\n",
    "</ul>\n",
    "\n",
    "Refactor the program, using a float instead of an integer. What happens if you enter an integer rather than a float at the prompt?"
   ]
  },
  {
   "cell_type": "code",
   "execution_count": null,
   "metadata": {},
   "outputs": [],
   "source": [
    "num = input(\"Enter a number: \")\n",
    "print(f\" your entered value {num} is a {type(num)}\")\n",
    "\n",
    "floatnum = float(num)\n",
    "print(f\" your entered value {floatnum} is a {type(floatnum)}\")\n",
    "\n",
    "intnum = int(floatnum)\n",
    "print(f\" your entered value {intnum} is a {type(intnum)}\")\n",
    "\n"
   ]
  },
  {
   "cell_type": "markdown",
   "metadata": {},
   "source": [
    "<h2> Activity 2 </h2>\n",
    "Update the code below so that the result is equal to 576. Do not change any of the existing values or operators or the order in which they appear.\n",
    "\n"
   ]
  },
  {
   "cell_type": "code",
   "execution_count": 8,
   "metadata": {},
   "outputs": [
    {
     "name": "stdout",
     "output_type": "stream",
     "text": [
      "576\n"
     ]
    }
   ],
   "source": [
    "# do not change the order in which the numbers and operators appear in the next line\n",
    "result = (5 + 3) ** 2 * 9 \n",
    " \n",
    "print(result) # the output should be 576"
   ]
  },
  {
   "cell_type": "markdown",
   "metadata": {},
   "source": [
    "<h2> Activity 3 </h2>\n",
    "\n",
    "Create a computer program that prompts the user for a float number and returns the integer portion of the floating number."
   ]
  },
  {
   "cell_type": "code",
   "execution_count": null,
   "metadata": {},
   "outputs": [],
   "source": [
    "num = input(\"Enter a number: \")\n",
    "print(f\"the integer portion of the number is {int(float(num))}\")"
   ]
  },
  {
   "cell_type": "markdown",
   "metadata": {},
   "source": [
    "<h2> Activity 4 </h2>\n",
    "Write a computer program that calculates and displays the current value of a deposit for a given initial deposit, interest rate, how many times interest is calculated per year, and the number of years since the initial deposit.\n",
    "\n",
    "The program should prompt the user for each of the values and use the following formula to calculate the current value of the deposit:\n",
    "\n",
    "V = P(1 + r/n)^nt\n"
   ]
  },
  {
   "cell_type": "code",
   "execution_count": null,
   "metadata": {},
   "outputs": [],
   "source": [
    "#initialDeposit\n",
    "p = float(input(\"Enter your initial deposit: \"))\n",
    "#interestRate\n",
    "r = float(input(\"Enter interest rate: \"))\n",
    "#the number of times per year interest is calculated\n",
    "n = int(input(\"Enter how many times a year you want the interest to be calculated: \"))\n",
    "#the number of years since the initial deposit\n",
    "t = float(input(\"Enter the number of year since initial deposit: \"))\n",
    "\n",
    "v = p*(1+r/n)**(n*t)\n",
    "print(v)"
   ]
  },
  {
   "cell_type": "markdown",
   "metadata": {},
   "source": [
    "<h2> Activity 5 </h2>\n",
    "\n",
    "Write a computer program that prompts the user for a principal amount, the rate of interest, and the number of days for a loan and then calculates and returns the simple interest for the life of the loan. Use the formula:\n",
    "\n",
    "interest = principal * rate * days / 365"
   ]
  },
  {
   "cell_type": "code",
   "execution_count": null,
   "metadata": {},
   "outputs": [],
   "source": [
    "principal = float(input(\"Enter the principal amount: \"))\n",
    "rate = float(input(\"Enter the annual interest rate (as a decimal, e.g., 0.05 for 5%): \"))\n",
    "days = int(input(\"Enter the number of days the money is borrowed for or invested: \"))\n",
    "\n",
    "interest = principal * rate * days / 365\n",
    "\n",
    "print(f\"The calculated interest is: {interest}\")"
   ]
  },
  {
   "cell_type": "markdown",
   "metadata": {},
   "source": [
    "<h2> Activity 6 </h2>\n",
    "Create a computer program that displays three statements that evaluate to True and three statements that evaluate to False.\n",
    "\n",
    "Example:\n",
    "\n",
    "a = 0\n",
    "b = 1 \n",
    "\n",
    "Output: a < b = True\n"
   ]
  },
  {
   "cell_type": "code",
   "execution_count": 9,
   "metadata": {},
   "outputs": [
    {
     "name": "stdout",
     "output_type": "stream",
     "text": [
      "True\n"
     ]
    }
   ],
   "source": [
    "a = 0\n",
    "b = 1\n",
    "\n",
    "print(a<b)\n",
    "\n"
   ]
  },
  {
   "cell_type": "markdown",
   "metadata": {},
   "source": [
    "<h2> Activity 7 </h2>\n",
    "Create a computer program that prompts the user for a number and calculates the following:\n",
    "<u;>\n",
    "<li> the boolean of the number entered </li>\n",
    "<li> the binary equivalent of the number entered </li>\n",
    "<li> the square root of the number entered </li>\n",
    "</ul>"
   ]
  },
  {
   "cell_type": "code",
   "execution_count": 20,
   "metadata": {},
   "outputs": [
    {
     "name": "stdout",
     "output_type": "stream",
     "text": [
      "You selected 8.8\n",
      "The boolean of your number is True \n",
      "The binary equivalent of your number is 0b1000\n",
      "The square root of your number is 2.97\n"
     ]
    }
   ],
   "source": [
    "import math\n",
    "num = 8.8\n",
    "print(f\"You selected {num}\")\n",
    "print(f\"The boolean of your number is {bool(num)} \")\n",
    "print(f\"The binary equivalent of your number is {bin(int(num))}\")\n",
    "print(f\"The square root of your number is {math.sqrt(num):.2f}\")"
   ]
  },
  {
   "cell_type": "markdown",
   "metadata": {},
   "source": [
    "<h2> Activity 8 </h2>\n",
    "\n",
    "Create a computer program that completes the following tasks:\n",
    "<ul>\n",
    "<li> It prompts the user for a series of 5 integers. </li>\n",
    "-- The user must be prompted for 5 numbers.\n",
    "<li>After the fifth entry, the program stops prompting for values and performs the following calculations:\n",
    "-- the product of the integers\n",
    "-- the average of the integers\n",
    "-- the sum of the integers </li>\n",
    "<li> After performing the calculations, the program should display the following to the user:\n",
    "the values the user entered </li>\n",
    "each of the calculations, using a phrase that identifies the value\n",
    "<ul>"
   ]
  },
  {
   "cell_type": "code",
   "execution_count": null,
   "metadata": {},
   "outputs": [],
   "source": [
    "#It prompts the user for a series of 5 integers\n",
    "num1 = int(input(\"Enter the first number: \"))\n",
    "num2 = int(input(\"Enter the second number: \"))\n",
    "num3 = int(input(\"Enter the third number: \"))\n",
    "num4 = int(input(\"Enter the fourth number: \"))\n",
    "num5 = int(input(\"Enter the fifth number: \"))\n",
    "\n",
    "product = num1 * num2 * num3 * num4 * num5\n",
    "sum = num1 + num2 + num3 + num4 + num5 \n",
    "avg = sum/5\n",
    "\n",
    "print(f\"Product is {product}\")\n",
    "print(f\"Average is {avg}\")\n",
    "print(f\"Sum is {sum}\")\n",
    "\n"
   ]
  },
  {
   "cell_type": "markdown",
   "metadata": {},
   "source": [
    "<h2> Activity 9 </h2>\n",
    "Write a program that performs the following steps:\n",
    "\n",
    "Start with a street address that includes a building/house number, the name of the street, and the type of street (e.g., Street, Avenue, Boulevard, etc.).\n",
    "You can use any address you wish and abbreviations are acceptable.\n",
    "An example is 25 Main Street.\n",
    "Display the full address to the user.\n",
    "Display the house number only in a phrase like, \"The building or house number is 25.\"\n",
    "Display the street name in a phrase like, \"The street name is Main Street.\""
   ]
  },
  {
   "cell_type": "code",
   "execution_count": 23,
   "metadata": {},
   "outputs": [
    {
     "name": "stdout",
     "output_type": "stream",
     "text": [
      "The full address is: 25 Main Street\n",
      "The building or house number is 25.\n",
      "The street name is Main Street.\n"
     ]
    }
   ],
   "source": [
    "full_address = \"25 Main Street\"\n",
    "print(f\"The full address is: {full_address}\")\n",
    "parts = full_address.split(' ', 2)\n",
    "house_number = parts[0]\n",
    "street_name = parts[1] + ' ' + parts[2]\n",
    "print(f\"The building or house number is {house_number}.\")\n",
    "print(f\"The street name is {street_name}.\")\n"
   ]
  },
  {
   "cell_type": "markdown",
   "metadata": {},
   "source": [
    "<h1>Self-Assessment: Basic Python Data Types</h1>\n",
    "Write a script that performs the following steps:\n",
    "\n",
    "Collect the following individual pieces of data from the user:\n",
    "First name\n",
    "Last name\n",
    "City where they live\n",
    "Their hourly wage\n",
    "The number of hours they work each week\n",
    "Present the collected information based on the data input in a format like:\n",
    "\n",
    "Hi, Firstname Lastname! How are you?\n",
    "I hope the weather is nice in City.\n",
    "Based on the information you provided, you earn X dollars per week, approximately Y dollars per month, and Z dollars per year."
   ]
  },
  {
   "cell_type": "code",
   "execution_count": null,
   "metadata": {},
   "outputs": [],
   "source": [
    "first_name = input(\"Enter your first name: \")\n",
    "last_name = input(\"Enter your last name: \")\n",
    "city = input(\"Enter the city you live in: \")\n",
    "wage = int(input(\"Enter your hourly wage: \"))\n",
    "workingHour = int(input(\"Enter how many hour you work each week:\"))\n",
    "monthlyWage = wage*workingHour*4\n",
    "\n",
    "\n",
    "print(f\"Hi, {first_name} {last_name}! How are you? I hope the weather is nice in {city}. Based on the information you provided, you earn {wage} dollars per week, approximately {monthlyWage} dollars per month, and {monthlyWage*12} dollars per year.\")"
   ]
  }
 ],
 "metadata": {
  "kernelspec": {
   "display_name": "Python 3",
   "language": "python",
   "name": "python3"
  },
  "language_info": {
   "codemirror_mode": {
    "name": "ipython",
    "version": 3
   },
   "file_extension": ".py",
   "mimetype": "text/x-python",
   "name": "python",
   "nbconvert_exporter": "python",
   "pygments_lexer": "ipython3",
   "version": "3.12.5"
  }
 },
 "nbformat": 4,
 "nbformat_minor": 2
}
