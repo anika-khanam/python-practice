{
 "cells": [
  {
   "cell_type": "markdown",
   "metadata": {},
   "source": [
    "<h1> Practices </h1>\n"
   ]
  },
  {
   "cell_type": "code",
   "execution_count": null,
   "metadata": {},
   "outputs": [],
   "source": [
    "#Fix the following code, keeping the instruction on four separate lines.\n",
    "print\n",
    "(\"this is a \\\n",
    " long string\" \n",
    ")"
   ]
  },
  {
   "cell_type": "code",
   "execution_count": 8,
   "metadata": {},
   "outputs": [
    {
     "name": "stdout",
     "output_type": "stream",
     "text": [
      "Hi!\n",
      "My name is Tracy.\n",
      "I enjoy traveling.\n"
     ]
    }
   ],
   "source": [
    "print(\"Hi!\");print(\"My name is Tracy.\");print(\"I enjoy traveling.\");\n"
   ]
  },
  {
   "cell_type": "markdown",
   "metadata": {},
   "source": [
    "<h1> Activity 1 </h1>\n",
    "<p> Each of the code blocks below includes at least one error that will prevent it from running. Fix the errors and test to make sure the code runs as expected. Comments at the top of each block will tell you what the code should do. </p>"
   ]
  },
  {
   "cell_type": "code",
   "execution_count": 11,
   "metadata": {},
   "outputs": [
    {
     "name": "stdout",
     "output_type": "stream",
     "text": [
      "\"Python is fun!\"\n"
     ]
    }
   ],
   "source": [
    "# display the text in quotation marks to an output block\n",
    "print('\"Python is fun!\"')"
   ]
  },
  {
   "cell_type": "code",
   "execution_count": 13,
   "metadata": {},
   "outputs": [
    {
     "name": "stdout",
     "output_type": "stream",
     "text": [
      "Python is fun!\n",
      "Python is also easy.\n"
     ]
    }
   ],
   "source": [
    "# Display the text in quotation marks to an output block \n",
    "# without moving any of the existing acode to a different line\n",
    "print(\"Python is fun!\"); print(\"Python is also easy.\")"
   ]
  },
  {
   "cell_type": "code",
   "execution_count": 20,
   "metadata": {},
   "outputs": [
    {
     "name": "stdout",
     "output_type": "stream",
     "text": [
      "\"Python is fun!\"\n"
     ]
    }
   ],
   "source": [
    "# Display the text in quotation marks to an output block \n",
    "# without moving any of the existing code to a different line\n",
    "print \\\n",
    "('\"Python is fun!\"')"
   ]
  },
  {
   "cell_type": "code",
   "execution_count": 22,
   "metadata": {},
   "outputs": [
    {
     "name": "stdout",
     "output_type": "stream",
     "text": [
      "Rebecca\n",
      "Roberts\n"
     ]
    }
   ],
   "source": [
    "# Change each variable name to an appropriate name for Python. \n",
    "# Do not use the same variable name more than one time.\n",
    "name1 = \"Rebecca\" # first name\n",
    "name2 = \"Roberts\" # last name\n",
    " \n",
    "# After changing the variable names, update the code below \n",
    "# to print out each name.\n",
    "print(name1)\n",
    "print(name2)"
   ]
  },
  {
   "cell_type": "markdown",
   "metadata": {},
   "source": [
    "<h1> Activity 2</h1>\n",
    "<p> Starting with the code blocks provided below, add to the code as needed to follow the instructions in the comments. You may add necessary code, but you should not delete any of the existing code. Run each block to make sure it works as expected before going to the next block. </p>"
   ]
  },
  {
   "cell_type": "code",
   "execution_count": 25,
   "metadata": {},
   "outputs": [
    {
     "name": "stdout",
     "output_type": "stream",
     "text": [
      "\"I love Python!\"\n"
     ]
    }
   ],
   "source": [
    "# Add a new line of code that displays the text in quotation marks \n",
    "# to an output block without repeating the text in quotation marks.\n",
    "output = \"I love Python!\"\n",
    "\n",
    " \n",
    "# your code below this line\n",
    "print('\"' + output + '\"')"
   ]
  },
  {
   "cell_type": "code",
   "execution_count": 26,
   "metadata": {},
   "outputs": [
    {
     "name": "stdout",
     "output_type": "stream",
     "text": [
      "Python is fun!\n"
     ]
    }
   ],
   "source": [
    "# Display only the text Python is fun! to an output block \n",
    "# without deleting any of the existing code\n",
    "print(\"Python is fun!\")\n",
    "#print(\"Python is also easy!\")"
   ]
  },
  {
   "cell_type": "markdown",
   "metadata": {},
   "source": [
    "<h1> Activity 3 </h1>\n",
    "<p> Create a script that prompts the user for the name of the state where they were born and the name of the state where they live now. Save each value in its own variable and display the input values to the user. </p>"
   ]
  },
  {
   "cell_type": "code",
   "execution_count": null,
   "metadata": {},
   "outputs": [],
   "source": [
    "birthState = input(\"Enter the name of the State you were born: \")\n",
    "currentState = input(\"Enter which State you currently live: \")\n",
    "\n",
    "print(f\"You were born in {birthState} and you currently live in {currentState}\")"
   ]
  },
  {
   "cell_type": "markdown",
   "metadata": {},
   "source": [
    "<h1> Self-Assessment: Python Syntax </h1>\n",
    "<h2> Requirements </h2>\n",
    "Write a script that meets the following requirements:\n",
    "\n",
    "Add your name and the current date in comments at the top of the script.\n",
    "Prompt the user to enter their first name, their last name, their phone number, and the year they were born. Save each of these values to a different variable.\n",
    "Display the values they entered.\n",
    "Test your script to make sure it works as expected."
   ]
  }
 ],
 "metadata": {
  "kernelspec": {
   "display_name": "Python 3",
   "language": "python",
   "name": "python3"
  },
  "language_info": {
   "codemirror_mode": {
    "name": "ipython",
    "version": 3
   },
   "file_extension": ".py",
   "mimetype": "text/x-python",
   "name": "python",
   "nbconvert_exporter": "python",
   "pygments_lexer": "ipython3",
   "version": "3.12.5"
  }
 },
 "nbformat": 4,
 "nbformat_minor": 2
}
